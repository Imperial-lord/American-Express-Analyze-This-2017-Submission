{
 "cells": [
  {
   "cell_type": "markdown",
   "metadata": {},
   "source": [
    "# Analyze This 2017 - Envible"
   ]
  },
  {
   "cell_type": "markdown",
   "metadata": {},
   "source": [
    "Change directory"
   ]
  },
  {
   "cell_type": "code",
   "execution_count": null,
   "metadata": {
    "collapsed": true
   },
   "outputs": [],
   "source": [
    "setwd(\"~/coding/Envible-VITVellore-AMAX-Analyze-This-2017\")"
   ]
  },
  {
   "cell_type": "markdown",
   "metadata": {},
   "source": [
    "Read data"
   ]
  },
  {
   "cell_type": "code",
   "execution_count": null,
   "metadata": {
    "collapsed": true
   },
   "outputs": [],
   "source": [
    "data <- read.csv('Dataset/Training_Dataset.csv')"
   ]
  },
  {
   "cell_type": "markdown",
   "metadata": {},
   "source": [
    "Drop \n",
    "- cm_key - Unique for every customer\n",
    "- mvar1 - Same for all customers"
   ]
  },
  {
   "cell_type": "code",
   "execution_count": null,
   "metadata": {
    "collapsed": true
   },
   "outputs": [],
   "source": [
    "data <- data[, ! names(data) %in% c(\"mvar1\"), drop = FALSE]\n",
    "data <- data[, ! names(data) %in% c(\"cm_key\"), drop = FALSE]"
   ]
  },
  {
   "cell_type": "markdown",
   "metadata": {},
   "source": [
    "### Create binary and multi-class targets"
   ]
  },
  {
   "cell_type": "markdown",
   "metadata": {},
   "source": [
    "Multi class - "
   ]
  },
  {
   "cell_type": "code",
   "execution_count": null,
   "metadata": {
    "collapsed": true
   },
   "outputs": [],
   "source": [
    "data$target <- rep(\"None\",nrow(data))\n",
    "data$target[data$mvar49==1] <- \"Supp\"\n",
    "data$target[data$mvar50==1] <- \"Elite\"\n",
    "data$target[data$mvar51==1] <- \"Credit\"\n",
    "length(data$target)"
   ]
  },
  {
   "cell_type": "markdown",
   "metadata": {},
   "source": [
    "Binary - "
   ]
  },
  {
   "cell_type": "code",
   "execution_count": null,
   "metadata": {
    "collapsed": true
   },
   "outputs": [],
   "source": [
    "data$targetBin <- rep(0,nrow(data))\n",
    "data$targetBin[data$mvar49==1] <- 1\n",
    "data$targetBin[data$mvar50==1] <- 1\n",
    "data$targetBin[data$mvar51==1] <- 1\n",
    "length(data$targetBin)"
   ]
  },
  {
   "cell_type": "markdown",
   "metadata": {},
   "source": [
    "Make targets factors"
   ]
  },
  {
   "cell_type": "code",
   "execution_count": null,
   "metadata": {
    "collapsed": true
   },
   "outputs": [],
   "source": [
    "data$target <- as.factor(data$target)\n",
    "data$targetBin <- as.factor(data$targetBin)"
   ]
  },
  {
   "cell_type": "markdown",
   "metadata": {},
   "source": [
    "Drop columns used to determine target"
   ]
  },
  {
   "cell_type": "code",
   "execution_count": null,
   "metadata": {
    "collapsed": true
   },
   "outputs": [],
   "source": [
    "data <- data[, ! names(data) %in% c(\"mvar46\"), drop = FALSE]\n",
    "data <- data[, ! names(data) %in% c(\"mvar47\"), drop = FALSE]\n",
    "data <- data[, ! names(data) %in% c(\"mvar48\"), drop = FALSE]\n",
    "data <- data[, ! names(data) %in% c(\"mvar49\"), drop = FALSE]\n",
    "data <- data[, ! names(data) %in% c(\"mvar50\"), drop = FALSE]\n",
    "data <- data[, ! names(data) %in% c(\"mvar51\"), drop = FALSE]"
   ]
  },
  {
   "cell_type": "markdown",
   "metadata": {},
   "source": [
    "Push target columns to the end"
   ]
  },
  {
   "cell_type": "code",
   "execution_count": null,
   "metadata": {
    "collapsed": true
   },
   "outputs": [],
   "source": [
    "multi <- data$target \n",
    "data <- data[, ! names(data) %in% c(\"target\"), drop = FALSE]\n",
    "data['target'] <- multi\n",
    "bin <- data$targetBin \n",
    "data <- data[, ! names(data) %in% c(\"targetBin\"), drop = FALSE]\n",
    "data['targetBin'] <- bin"
   ]
  },
  {
   "cell_type": "code",
   "execution_count": null,
   "metadata": {
    "collapsed": true
   },
   "outputs": [],
   "source": [
    "str(data)"
   ]
  },
  {
   "cell_type": "markdown",
   "metadata": {},
   "source": [
    "Make factors"
   ]
  },
  {
   "cell_type": "code",
   "execution_count": null,
   "metadata": {
    "collapsed": true
   },
   "outputs": [],
   "source": [
    "data$mvar2 <- as.factor(data$mvar2)\n",
    "data$mvar4 <- as.factor(data$mvar4)\n",
    "data$mvar10 <- as.factor(data$mvar10)\n",
    "data$mvar12 <- as.factor(data$mvar12)\n",
    "data$mvar13 <- as.factor(data$mvar13)\n",
    "data$mvar14 <- as.factor(data$mvar14)\n",
    "data$mvar15 <- as.factor(data$mvar15)\n",
    "data$mvar40 <- as.factor(data$mvar40)\n",
    "data$mvar41 <- as.factor(data$mvar41)\n",
    "data$mvar42 <- as.factor(data$mvar42)\n",
    "data$mvar43 <- as.factor(data$mvar43)\n",
    "data$mvar44 <- as.factor(data$mvar44)\n",
    "data$mvar45 <- as.factor(data$mvar45)"
   ]
  },
  {
   "cell_type": "markdown",
   "metadata": {},
   "source": [
    "Start H2O instance"
   ]
  },
  {
   "cell_type": "code",
   "execution_count": null,
   "metadata": {
    "collapsed": true
   },
   "outputs": [],
   "source": [
    "library(h2o)\n",
    "h2o.init(nthreads=-1,max_mem_size=\"3g\",enable_assertions=FALSE)"
   ]
  },
  {
   "cell_type": "markdown",
   "metadata": {},
   "source": [
    "### Perform Binary Classification"
   ]
  },
  {
   "cell_type": "markdown",
   "metadata": {},
   "source": [
    "Split dataset into training and testing"
   ]
  },
  {
   "cell_type": "code",
   "execution_count": null,
   "metadata": {
    "collapsed": true
   },
   "outputs": [],
   "source": [
    "set.seed(1)\n",
    "indexes = sample(1:nrow(data),size=0.2*nrow(data))\n",
    "test=data[indexes,]\n",
    "train=data[-indexes,]"
   ]
  },
  {
   "cell_type": "markdown",
   "metadata": {},
   "source": [
    "Create H2O variables"
   ]
  },
  {
   "cell_type": "code",
   "execution_count": null,
   "metadata": {
    "collapsed": true
   },
   "outputs": [],
   "source": [
    "train.hex<-as.h2o(train)\n",
    "test.hex<-as.h2o(test)"
   ]
  },
  {
   "cell_type": "markdown",
   "metadata": {},
   "source": [
    "Perform classification"
   ]
  },
  {
   "cell_type": "code",
   "execution_count": null,
   "metadata": {
    "collapsed": true
   },
   "outputs": [],
   "source": [
    "classification_model_binary<-h2o.gbm(\n",
    "        training_frame =train.hex,\n",
    "        validation_frame=test.hex,\n",
    "        x=-c(45),\n",
    "        y=46,\n",
    "        seed =100,\n",
    "        ntrees = 1000,\n",
    "        learn_rate=0.01,\n",
    "        stopping_rounds = 5, stopping_tolerance = 1e-4,\n",
    "        stopping_metric = \"AUC\",\n",
    "        sample_rate = 0.8,\n",
    "        col_sample_rate = 0.8,\n",
    "        score_tree_interval = 10\n",
    ")"
   ]
  },
  {
   "cell_type": "markdown",
   "metadata": {},
   "source": [
    "See model details"
   ]
  },
  {
   "cell_type": "code",
   "execution_count": null,
   "metadata": {
    "collapsed": true
   },
   "outputs": [],
   "source": [
    "print(classification_model_binary)"
   ]
  },
  {
   "cell_type": "markdown",
   "metadata": {},
   "source": [
    "### Perform 3 class classification (Supp, Elite, Credit)"
   ]
  },
  {
   "cell_type": "markdown",
   "metadata": {},
   "source": [
    "Remove training examples with None as card type"
   ]
  },
  {
   "cell_type": "code",
   "execution_count": null,
   "metadata": {
    "collapsed": true
   },
   "outputs": [],
   "source": [
    "card.data <- data[data$target != 'None',]"
   ]
  },
  {
   "cell_type": "markdown",
   "metadata": {},
   "source": [
    "Split dataset into training and testing"
   ]
  },
  {
   "cell_type": "code",
   "execution_count": null,
   "metadata": {
    "collapsed": true
   },
   "outputs": [],
   "source": [
    "set.seed(1)\n",
    "indexes = sample(1:nrow(card.data),size=0.2*nrow(card.data))\n",
    "card.test=card.data[indexes,]\n",
    "card.train=card.data[-indexes,]"
   ]
  },
  {
   "cell_type": "code",
   "execution_count": null,
   "metadata": {
    "collapsed": true
   },
   "outputs": [],
   "source": [
    "str(card.data)"
   ]
  },
  {
   "cell_type": "markdown",
   "metadata": {},
   "source": [
    "Create H2O variables"
   ]
  },
  {
   "cell_type": "code",
   "execution_count": null,
   "metadata": {
    "collapsed": true
   },
   "outputs": [],
   "source": [
    "card.train.hex<-as.h2o(card.train)\n",
    "card.test.hex<-as.h2o(card.test)"
   ]
  },
  {
   "cell_type": "markdown",
   "metadata": {},
   "source": [
    "Perform classification"
   ]
  },
  {
   "cell_type": "code",
   "execution_count": null,
   "metadata": {
    "collapsed": true
   },
   "outputs": [],
   "source": [
    "regression_model_multi<-h2o.xgboost(\n",
    "        training_frame =card.train.hex,\n",
    "        validation_frame=card.test.hex,\n",
    "        x=-c(46),\n",
    "        y=45,\n",
    "        nfolds=10,\n",
    "        seed =100,\n",
    "        ntrees = 1000,\n",
    "        learn_rate=0.01,\n",
    "        stopping_rounds = 5, stopping_tolerance = 1e-4,\n",
    "        stopping_metric = \"logloss\", \n",
    "        sample_rate = 0.8,\n",
    "        col_sample_rate = 0.8,\n",
    "        score_tree_interval = 10\n",
    ")"
   ]
  },
  {
   "cell_type": "markdown",
   "metadata": {},
   "source": [
    "See model details"
   ]
  },
  {
   "cell_type": "code",
   "execution_count": 63,
   "metadata": {},
   "outputs": [
    {
     "name": "stdout",
     "output_type": "stream",
     "text": [
      "Model Details:\n",
      "==============\n",
      "\n",
      "H2OMultinomialModel: xgboost\n",
      "Model ID:  XGBoost_model_R_1503833108862_7191 \n",
      "Model Summary: \n",
      "  number_of_trees\n",
      "1            1000\n",
      "\n",
      "\n",
      "H2OMultinomialMetrics: xgboost\n",
      "** Reported on training data. **\n",
      "** Metrics reported on training frame **\n",
      "\n",
      "Training Set Metrics: \n",
      "=====================\n",
      "\n",
      "MSE: (Extract with `h2o.mse`) 0.1805814\n",
      "RMSE: (Extract with `h2o.rmse`) 0.4249487\n",
      "Logloss: (Extract with `h2o.logloss`) 0.5325742\n",
      "Mean Per-Class Error: 0.1960355\n",
      "Confusion Matrix: Extract with `h2o.confusionMatrix(<model>,train = TRUE)`)\n",
      "=========================================================================\n",
      "Confusion Matrix: Row labels: Actual class; Column labels: Predicted class\n",
      "          0    1    2  Error            Rate\n",
      "0      1694  315  190 0.2296 =   505 / 2,199\n",
      "1       131 1910   91 0.1041 =   222 / 2,132\n",
      "2       271  434 2067 0.2543 =   705 / 2,772\n",
      "Totals 2096 2659 2348 0.2016 = 1,432 / 7,103\n",
      "\n",
      "Hit Ratio Table: Extract with `h2o.hit_ratio_table(<model>,train = TRUE)`\n",
      "=======================================================================\n",
      "Top-3 Hit Ratios: \n",
      "  k hit_ratio\n",
      "1 1  0.798395\n",
      "2 2  0.964100\n",
      "3 3  1.000000\n",
      "\n",
      "\n",
      "H2OMultinomialMetrics: xgboost\n",
      "** Reported on validation data. **\n",
      "** Metrics reported on validation frame **\n",
      "\n",
      "Validation Set Metrics: \n",
      "=====================\n",
      "\n",
      "MSE: (Extract with `h2o.mse`) 0.2575335\n",
      "RMSE: (Extract with `h2o.rmse`) 0.5074776\n",
      "Logloss: (Extract with `h2o.logloss`) 0.720753\n",
      "Mean Per-Class Error: 0.3342113\n",
      "Confusion Matrix: Extract with `h2o.confusionMatrix(<model>,valid = TRUE)`)\n",
      "=========================================================================\n",
      "Confusion Matrix: Row labels: Actual class; Column labels: Predicted class\n",
      "         0   1   2  Error          Rate\n",
      "0      357 122  99 0.3824 =   221 / 578\n",
      "1       78 390  54 0.2529 =   132 / 522\n",
      "2      102 146 427 0.3674 =   248 / 675\n",
      "Totals 537 658 580 0.3386 = 601 / 1,775\n",
      "\n",
      "Hit Ratio Table: Extract with `h2o.hit_ratio_table(<model>,valid = TRUE)`\n",
      "=======================================================================\n",
      "Top-3 Hit Ratios: \n",
      "  k hit_ratio\n",
      "1 1  0.661408\n",
      "2 2  0.927324\n",
      "3 3  1.000000\n",
      "\n",
      "\n",
      "H2OMultinomialMetrics: xgboost\n",
      "** Reported on cross-validation data. **\n",
      "** 10-fold cross-validation on training data (Metrics computed for combined holdout predictions) **\n",
      "\n",
      "Cross-Validation Set Metrics: \n",
      "=====================\n",
      "\n",
      "Extract cross-validation frame with `h2o.getFrame(\"card.train\")`\n",
      "MSE: (Extract with `h2o.mse`) 0.2533095\n",
      "RMSE: (Extract with `h2o.rmse`) 0.5032987\n",
      "Logloss: (Extract with `h2o.logloss`) 0.7140652\n",
      "Mean Per-Class Error: 0.3209641\n",
      "Hit Ratio Table: Extract with `h2o.hit_ratio_table(<model>,xval = TRUE)`\n",
      "=======================================================================\n",
      "Top-3 Hit Ratios: \n",
      "  k hit_ratio\n",
      "1 1  0.674785\n",
      "2 2  0.920738\n",
      "3 3  1.000000\n",
      "\n",
      "\n",
      "Cross-Validation Metrics Summary: \n",
      "                              mean          sd cv_1_valid cv_2_valid cv_3_valid\n",
      "accuracy                 0.6747955 0.009289745  0.6618705  0.6626826  0.6765101\n",
      "err                     0.32520446 0.009289745  0.3381295  0.3373174 0.32348993\n",
      "err_count                    231.0   10.630146      235.0      254.0      241.0\n",
      "logloss                 0.71395725 0.012407701 0.72206163  0.7452564  0.7060149\n",
      "max_per_class_error     0.40061575 0.017925968 0.41626793  0.4059829 0.39344263\n",
      "mean_per_class_accuracy 0.67888427 0.008354826  0.6672415  0.6659619 0.68420184\n",
      "mean_per_class_error    0.32111573 0.008354826 0.33275846 0.33403808 0.31579816\n",
      "mse                     0.25326797 0.004990754  0.2562727 0.26415423 0.25210604\n",
      "r2                       0.6341762 0.010277188  0.6290541  0.6141795  0.6469799\n",
      "rmse                    0.50320876 0.004945709  0.5062339 0.51395935 0.50210166\n",
      "                        cv_4_valid cv_5_valid cv_6_valid cv_7_valid cv_8_valid\n",
      "accuracy                  0.674581 0.69325155 0.68175936   0.685633 0.65014577\n",
      "err                       0.325419 0.30674848  0.3182406   0.314367 0.34985423\n",
      "err_count                    233.0      200.0      246.0      221.0      240.0\n",
      "logloss                  0.7169418  0.7090698 0.70963395  0.7022525  0.7418159\n",
      "max_per_class_error      0.3962264 0.36458334 0.45762712 0.41860464  0.4009009\n",
      "mean_per_class_accuracy  0.6754269  0.6927305  0.6838922 0.68386805  0.6576989\n",
      "mean_per_class_error     0.3245731 0.30726954  0.3161078 0.31613198 0.34230107\n",
      "mse                     0.25552228  0.2499613 0.25067046 0.24771525  0.2658879\n",
      "r2                       0.6166912   0.622615  0.6451702 0.63249767   0.626722\n",
      "rmse                     0.5054921  0.4999613    0.50067 0.49771002  0.5156432\n",
      "                        cv_9_valid cv_10_valid\n",
      "accuracy                 0.6913408  0.67018074\n",
      "err                     0.30865923   0.3298193\n",
      "err_count                    221.0       219.0\n",
      "logloss                  0.6846166  0.70190924\n",
      "max_per_class_error      0.3728223  0.37969926\n",
      "mean_per_class_accuracy 0.69790465  0.67991614\n",
      "mean_per_class_error    0.30209535  0.32008386\n",
      "mse                     0.24158558  0.24880402\n",
      "r2                      0.64606416    0.661788\n",
      "rmse                    0.49151355   0.4988026\n"
     ]
    }
   ],
   "source": [
    "print(regression_model_multi)"
   ]
  },
  {
   "cell_type": "markdown",
   "metadata": {},
   "source": [
    "### Perform prediction on leaderboard dataset"
   ]
  },
  {
   "cell_type": "markdown",
   "metadata": {},
   "source": [
    "Load dataset"
   ]
  },
  {
   "cell_type": "code",
   "execution_count": null,
   "metadata": {
    "collapsed": true
   },
   "outputs": [],
   "source": [
    "leader <- read.csv('Dataset/Leaderboard_Dataset.csv')"
   ]
  },
  {
   "cell_type": "markdown",
   "metadata": {},
   "source": [
    "Save cm_key"
   ]
  },
  {
   "cell_type": "code",
   "execution_count": null,
   "metadata": {
    "collapsed": true
   },
   "outputs": [],
   "source": [
    "cm_key <- leader['cm_key']"
   ]
  },
  {
   "cell_type": "markdown",
   "metadata": {},
   "source": [
    "Perform data manipulations as performed on training set"
   ]
  },
  {
   "cell_type": "code",
   "execution_count": null,
   "metadata": {
    "collapsed": true
   },
   "outputs": [],
   "source": [
    "leader <- leader[, ! names(leader) %in% c(\"mvar1\"), drop = FALSE]\n",
    "leader <- leader[, ! names(leader) %in% c(\"cm_key\"), drop = FALSE]"
   ]
  },
  {
   "cell_type": "code",
   "execution_count": null,
   "metadata": {
    "collapsed": true
   },
   "outputs": [],
   "source": [
    "leader$mvar2 <- as.factor(leader$mvar2)\n",
    "leader$mvar4 <- as.factor(leader$mvar4)\n",
    "leader$mvar10 <- as.factor(leader$mvar10)\n",
    "leader$mvar12 <- as.factor(leader$mvar12)\n",
    "leader$mvar13 <- as.factor(leader$mvar13)\n",
    "leader$mvar14 <- as.factor(leader$mvar14)\n",
    "leader$mvar15 <- as.factor(leader$mvar15)\n",
    "leader$mvar40 <- as.factor(leader$mvar40)\n",
    "leader$mvar41 <- as.factor(leader$mvar41)\n",
    "leader$mvar42 <- as.factor(leader$mvar42)\n",
    "leader$mvar43 <- as.factor(leader$mvar43)\n",
    "leader$mvar44 <- as.factor(leader$mvar44)\n",
    "leader$mvar45 <- as.factor(leader$mvar45)"
   ]
  },
  {
   "cell_type": "markdown",
   "metadata": {},
   "source": [
    "Create H2O variable"
   ]
  },
  {
   "cell_type": "code",
   "execution_count": null,
   "metadata": {
    "collapsed": true
   },
   "outputs": [],
   "source": [
    "leader.hex<-as.h2o(leader)"
   ]
  },
  {
   "cell_type": "markdown",
   "metadata": {},
   "source": [
    "Perform binary prediction"
   ]
  },
  {
   "cell_type": "code",
   "execution_count": null,
   "metadata": {
    "collapsed": true
   },
   "outputs": [],
   "source": [
    "predictions_binary <- as.data.frame(h2o.predict(classification_model_binary, leader.hex))"
   ]
  },
  {
   "cell_type": "code",
   "execution_count": null,
   "metadata": {
    "collapsed": true
   },
   "outputs": [],
   "source": [
    "leader['predict'] <- predictions_binary['predict']\n",
    "leader['p1'] <- predictions_binary['p1']\n",
    "leader[\"cm_key\"] <- cm_key"
   ]
  },
  {
   "cell_type": "code",
   "execution_count": null,
   "metadata": {
    "collapsed": true
   },
   "outputs": [],
   "source": [
    "dim(subset(leader, p1 > 0.3698))"
   ]
  },
  {
   "cell_type": "code",
   "execution_count": null,
   "metadata": {
    "collapsed": true
   },
   "outputs": [],
   "source": [
    "leader <- subset(leader, p1 > 0.3698)"
   ]
  },
  {
   "cell_type": "code",
   "execution_count": null,
   "metadata": {
    "collapsed": true
   },
   "outputs": [],
   "source": [
    "leader <- leader[with(leader, order(-p1)), ]"
   ]
  },
  {
   "cell_type": "code",
   "execution_count": null,
   "metadata": {
    "collapsed": true
   },
   "outputs": [],
   "source": [
    "cm_key_multi <- leader['cm_key']\n",
    "leader <- leader[, ! names(leader) %in% c(\"cm_key\"), drop = FALSE]\n",
    "leader <- leader[, ! names(leader) %in% c(\"p1\"), drop = FALSE]\n",
    "leader <- leader[, ! names(leader) %in% c(\"predict\"), drop = FALSE]"
   ]
  },
  {
   "cell_type": "code",
   "execution_count": null,
   "metadata": {
    "collapsed": true
   },
   "outputs": [],
   "source": [
    "dim(leader)"
   ]
  },
  {
   "cell_type": "markdown",
   "metadata": {},
   "source": [
    "Perform 3-class classification"
   ]
  },
  {
   "cell_type": "code",
   "execution_count": 57,
   "metadata": {},
   "outputs": [
    {
     "name": "stdout",
     "output_type": "stream",
     "text": [
      "\r",
      "  |                                                                            \r",
      "  |                                                                      |   0%\r",
      "  |                                                                            \r",
      "  |======================================================================| 100%\n"
     ]
    }
   ],
   "source": [
    "multi.leader.hex<-as.h2o(leader)"
   ]
  },
  {
   "cell_type": "code",
   "execution_count": 62,
   "metadata": {},
   "outputs": [
    {
     "name": "stdout",
     "output_type": "stream",
     "text": [
      "\r",
      "  |                                                                            \r",
      "  |                                                                      |   0%\r",
      "  |                                                                            \r",
      "  |======================================================================| 100%\n"
     ]
    },
    {
     "data": {
      "text/plain": [
       "  predict        p0        p1\n",
       "1       1 0.2326839 0.7673161\n",
       "2       1 0.2381883 0.7618117\n",
       "3       1 0.2587879 0.7412121\n",
       "4       1 0.2906512 0.7093488\n",
       "5       1 0.2922629 0.7077371\n",
       "6       1 0.2929470 0.7070530\n",
       "\n",
       "[1000 rows x 3 columns] "
      ]
     },
     "metadata": {},
     "output_type": "display_data"
    }
   ],
   "source": [
    "h2o.predict(classification_model_binary, multi.leader.hex)"
   ]
  },
  {
   "cell_type": "code",
   "execution_count": null,
   "metadata": {
    "collapsed": true
   },
   "outputs": [],
   "source": []
  }
 ],
 "metadata": {
  "kernelspec": {
   "display_name": "R",
   "language": "R",
   "name": "ir"
  },
  "language_info": {
   "codemirror_mode": "r",
   "file_extension": ".r",
   "mimetype": "text/x-r-source",
   "name": "R",
   "pygments_lexer": "r",
   "version": "3.4.1"
  }
 },
 "nbformat": 4,
 "nbformat_minor": 2
}
